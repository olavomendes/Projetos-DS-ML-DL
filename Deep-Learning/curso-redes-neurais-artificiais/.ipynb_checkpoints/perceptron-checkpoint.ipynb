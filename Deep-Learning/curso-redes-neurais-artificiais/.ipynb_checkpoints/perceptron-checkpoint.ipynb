{
 "cells": [
  {
   "cell_type": "markdown",
   "metadata": {},
   "source": [
    "## Perceptron"
   ]
  },
  {
   "cell_type": "code",
   "execution_count": 4,
   "metadata": {},
   "outputs": [],
   "source": [
    "entradas = [1, 7, 5]\n",
    "pesos = [0.8, 0.1, 0]"
   ]
  },
  {
   "cell_type": "code",
   "execution_count": 5,
   "metadata": {},
   "outputs": [],
   "source": [
    "# Somatório\n",
    "def soma(entradas, pesos):\n",
    "    s = 0 # soma\n",
    "    for i in range(3):\n",
    "        s += entradas[i] * pesos[i]\n",
    "    return s"
   ]
  },
  {
   "cell_type": "code",
   "execution_count": 6,
   "metadata": {},
   "outputs": [
    {
     "data": {
      "text/plain": [
       "1.5"
      ]
     },
     "execution_count": 6,
     "metadata": {},
     "output_type": "execute_result"
    }
   ],
   "source": [
    "soma_total = soma(entradas, pesos)\n",
    "soma_total"
   ]
  },
  {
   "cell_type": "code",
   "execution_count": 7,
   "metadata": {},
   "outputs": [],
   "source": [
    "# Função de ativação\n",
    "def funcao_ativacao(soma):\n",
    "    if (soma >= 1):\n",
    "        return 1\n",
    "    else:\n",
    "        return 0"
   ]
  },
  {
   "cell_type": "code",
   "execution_count": 8,
   "metadata": {},
   "outputs": [
    {
     "data": {
      "text/plain": [
       "1"
      ]
     },
     "execution_count": 8,
     "metadata": {},
     "output_type": "execute_result"
    }
   ],
   "source": [
    "resultado = funcao_ativacao(soma_total)\n",
    "resultado"
   ]
  },
  {
   "cell_type": "markdown",
   "metadata": {},
   "source": [
    "## Perceptron com Numpy"
   ]
  },
  {
   "cell_type": "code",
   "execution_count": 9,
   "metadata": {},
   "outputs": [],
   "source": [
    "import numpy as np"
   ]
  },
  {
   "cell_type": "code",
   "execution_count": 10,
   "metadata": {},
   "outputs": [
    {
     "data": {
      "text/plain": [
       "1"
      ]
     },
     "execution_count": 10,
     "metadata": {},
     "output_type": "execute_result"
    }
   ],
   "source": [
    "entradas = np.array([1, 7, 5])\n",
    "pesos = np.array([0.8, 0.1, 0])\n",
    "\n",
    "# Somatório\n",
    "def soma(entradas, pesos):\n",
    "    return entradas.dot(pesos) # produto escalar\n",
    "\n",
    "# Função de ativação\n",
    "def funcao_ativacao(soma):\n",
    "    if (soma >= 1):\n",
    "        return 1\n",
    "    else:\n",
    "        return 0\n",
    "    \n",
    "resultado = funcao_ativacao(soma_total)\n",
    "resultado"
   ]
  },
  {
   "cell_type": "markdown",
   "metadata": {},
   "source": [
    "## Operador lógico \"E\""
   ]
  },
  {
   "cell_type": "code",
   "execution_count": 11,
   "metadata": {},
   "outputs": [],
   "source": [
    "#entradas = np.array([[0, 0], [0, 1], [1, 0], [1, 1]])\n",
    "#saidas = np.array([0, 0, 0, 1])"
   ]
  },
  {
   "cell_type": "markdown",
   "metadata": {},
   "source": [
    "## Operador lógico \"OU\""
   ]
  },
  {
   "cell_type": "code",
   "execution_count": 29,
   "metadata": {},
   "outputs": [],
   "source": [
    "entradas = np.array([[0, 0], [0, 1], [1, 0], [1, 1]])\n",
    "saidas = np.array([0, 1, 1, 1])"
   ]
  },
  {
   "cell_type": "code",
   "execution_count": 30,
   "metadata": {},
   "outputs": [],
   "source": [
    "pesos = np.array([0.0, 0.0])\n",
    "taxa_aprendizagem = 0.1"
   ]
  },
  {
   "cell_type": "code",
   "execution_count": 31,
   "metadata": {},
   "outputs": [],
   "source": [
    "def funcao_ativacao(soma):\n",
    "    if soma >= 1:\n",
    "        return 1\n",
    "    else:\n",
    "        return 0"
   ]
  },
  {
   "cell_type": "code",
   "execution_count": 32,
   "metadata": {},
   "outputs": [],
   "source": [
    "def calcula_saida(registro): # registro = cada elementro da entrada\n",
    "    soma = registro.dot(pesos)\n",
    "    return funcao_ativacao(soma)"
   ]
  },
  {
   "cell_type": "code",
   "execution_count": 33,
   "metadata": {},
   "outputs": [],
   "source": [
    "def treinar():\n",
    "    erro_total = 1\n",
    "    \n",
    "    while (erro_total != 0):\n",
    "        erro_total = 0\n",
    "        \n",
    "        for i in range(len(saidas)): # 4 vezes\n",
    "            saida_calculada = calcula_saida(np.asarray(entradas[i]))\n",
    "            \n",
    "            erro = abs(saidas[i] - saida_calculada)\n",
    "            \n",
    "            erro_total += erro\n",
    "            \n",
    "            for j in range(len(pesos)):\n",
    "                pesos[j] = pesos[j] + (taxa_aprendizagem * entradas[i][j] * erro)\n",
    "                print('Peso atualizado: ' + str(pesos[j]))\n",
    "                \n",
    "        print('Total de erros:' + str(erro_total))"
   ]
  },
  {
   "cell_type": "code",
   "execution_count": 34,
   "metadata": {},
   "outputs": [
    {
     "name": "stdout",
     "output_type": "stream",
     "text": [
      "Peso atualizado: 0.0\n",
      "Peso atualizado: 0.0\n",
      "Peso atualizado: 0.0\n",
      "Peso atualizado: 0.1\n",
      "Peso atualizado: 0.1\n",
      "Peso atualizado: 0.1\n",
      "Peso atualizado: 0.2\n",
      "Peso atualizado: 0.2\n",
      "Total de erros:3\n",
      "Peso atualizado: 0.2\n",
      "Peso atualizado: 0.2\n",
      "Peso atualizado: 0.2\n",
      "Peso atualizado: 0.30000000000000004\n",
      "Peso atualizado: 0.30000000000000004\n",
      "Peso atualizado: 0.30000000000000004\n",
      "Peso atualizado: 0.4\n",
      "Peso atualizado: 0.4\n",
      "Total de erros:3\n",
      "Peso atualizado: 0.4\n",
      "Peso atualizado: 0.4\n",
      "Peso atualizado: 0.4\n",
      "Peso atualizado: 0.5\n",
      "Peso atualizado: 0.5\n",
      "Peso atualizado: 0.5\n",
      "Peso atualizado: 0.5\n",
      "Peso atualizado: 0.5\n",
      "Total de erros:2\n",
      "Peso atualizado: 0.5\n",
      "Peso atualizado: 0.5\n",
      "Peso atualizado: 0.5\n",
      "Peso atualizado: 0.6\n",
      "Peso atualizado: 0.6\n",
      "Peso atualizado: 0.6\n",
      "Peso atualizado: 0.6\n",
      "Peso atualizado: 0.6\n",
      "Total de erros:2\n",
      "Peso atualizado: 0.6\n",
      "Peso atualizado: 0.6\n",
      "Peso atualizado: 0.6\n",
      "Peso atualizado: 0.7\n",
      "Peso atualizado: 0.7\n",
      "Peso atualizado: 0.7\n",
      "Peso atualizado: 0.7\n",
      "Peso atualizado: 0.7\n",
      "Total de erros:2\n",
      "Peso atualizado: 0.7\n",
      "Peso atualizado: 0.7\n",
      "Peso atualizado: 0.7\n",
      "Peso atualizado: 0.7999999999999999\n",
      "Peso atualizado: 0.7999999999999999\n",
      "Peso atualizado: 0.7999999999999999\n",
      "Peso atualizado: 0.7999999999999999\n",
      "Peso atualizado: 0.7999999999999999\n",
      "Total de erros:2\n",
      "Peso atualizado: 0.7999999999999999\n",
      "Peso atualizado: 0.7999999999999999\n",
      "Peso atualizado: 0.7999999999999999\n",
      "Peso atualizado: 0.8999999999999999\n",
      "Peso atualizado: 0.8999999999999999\n",
      "Peso atualizado: 0.8999999999999999\n",
      "Peso atualizado: 0.8999999999999999\n",
      "Peso atualizado: 0.8999999999999999\n",
      "Total de erros:2\n",
      "Peso atualizado: 0.8999999999999999\n",
      "Peso atualizado: 0.8999999999999999\n",
      "Peso atualizado: 0.8999999999999999\n",
      "Peso atualizado: 0.9999999999999999\n",
      "Peso atualizado: 0.9999999999999999\n",
      "Peso atualizado: 0.9999999999999999\n",
      "Peso atualizado: 0.9999999999999999\n",
      "Peso atualizado: 0.9999999999999999\n",
      "Total de erros:2\n",
      "Peso atualizado: 0.9999999999999999\n",
      "Peso atualizado: 0.9999999999999999\n",
      "Peso atualizado: 0.9999999999999999\n",
      "Peso atualizado: 1.0999999999999999\n",
      "Peso atualizado: 1.0999999999999999\n",
      "Peso atualizado: 1.0999999999999999\n",
      "Peso atualizado: 1.0999999999999999\n",
      "Peso atualizado: 1.0999999999999999\n",
      "Total de erros:2\n",
      "Peso atualizado: 1.0999999999999999\n",
      "Peso atualizado: 1.0999999999999999\n",
      "Peso atualizado: 1.0999999999999999\n",
      "Peso atualizado: 1.0999999999999999\n",
      "Peso atualizado: 1.0999999999999999\n",
      "Peso atualizado: 1.0999999999999999\n",
      "Peso atualizado: 1.0999999999999999\n",
      "Peso atualizado: 1.0999999999999999\n",
      "Total de erros:0\n"
     ]
    }
   ],
   "source": [
    "treinar()"
   ]
  },
  {
   "cell_type": "code",
   "execution_count": null,
   "metadata": {},
   "outputs": [],
   "source": []
  }
 ],
 "metadata": {
  "kernelspec": {
   "display_name": "Python 3",
   "language": "python",
   "name": "python3"
  },
  "language_info": {
   "codemirror_mode": {
    "name": "ipython",
    "version": 3
   },
   "file_extension": ".py",
   "mimetype": "text/x-python",
   "name": "python",
   "nbconvert_exporter": "python",
   "pygments_lexer": "ipython3",
   "version": "3.7.9"
  }
 },
 "nbformat": 4,
 "nbformat_minor": 4
}
