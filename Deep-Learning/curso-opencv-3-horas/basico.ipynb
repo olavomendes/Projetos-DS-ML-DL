{
 "cells": [
  {
   "cell_type": "code",
   "execution_count": 5,
   "metadata": {},
   "outputs": [],
   "source": [
    "import cv2\n",
    "import numpy as np"
   ]
  },
  {
   "cell_type": "markdown",
   "metadata": {},
   "source": [
    "### Ler imagem"
   ]
  },
  {
   "cell_type": "code",
   "execution_count": 2,
   "metadata": {},
   "outputs": [],
   "source": [
    "img = cv2.imread('Resources/lena.png')\n",
    "\n",
    "cv2.imshow(\"Lena\", img)\n",
    "\n",
    "cv2.waitKey(0)\n",
    "cv2.destroyAllWindows()"
   ]
  },
  {
   "cell_type": "markdown",
   "metadata": {},
   "source": [
    "### Ler vídeo"
   ]
  },
  {
   "cell_type": "code",
   "execution_count": 3,
   "metadata": {},
   "outputs": [],
   "source": [
    "frameWidth = 640\n",
    "frameHeight = 480\n",
    "\n",
    "cap = cv2.VideoCapture('Resources/test_video.mp4')\n",
    "\n",
    "while True:\n",
    "    sucess, img = cap.read()\n",
    "    img = cv2.resize(img, (frameWidth, frameHeight))\n",
    "    cv2.imshow('Resultado', img)\n",
    "    \n",
    "    key = cv2.waitKey(1)\n",
    "    if key == ord('q'):\n",
    "        break\n",
    "\n",
    "cap.release()\n",
    "cv2.destroyAllWindows()"
   ]
  },
  {
   "cell_type": "markdown",
   "metadata": {},
   "source": [
    "### Ler webcam"
   ]
  },
  {
   "cell_type": "code",
   "execution_count": 4,
   "metadata": {},
   "outputs": [],
   "source": [
    "cap = cv2.VideoCapture(0)\n",
    "\n",
    "while True:\n",
    "    success, img = cap.read()\n",
    "    cv2.imshow(\"Webcam\", img)\n",
    "    \n",
    "    key = cv2.waitKey(1)\n",
    "    if key == ord('q'):\n",
    "        break\n",
    "\n",
    "cap.release()\n",
    "cv2.destroyAllWindows()"
   ]
  },
  {
   "cell_type": "markdown",
   "metadata": {},
   "source": [
    "### Operações básicas"
   ]
  },
  {
   "cell_type": "code",
   "execution_count": 6,
   "metadata": {},
   "outputs": [],
   "source": [
    "img = cv2.imread(\"Resources/lena.png\")\n",
    "kernel = np.ones((5, 5), np.uint8)\n",
    "\n",
    "imgGray = cv2.cvtColor(img, cv2.COLOR_BGR2GRAY)\n",
    "imgBlur = cv2.GaussianBlur(imgGray, (7, 7), 0)\n",
    "imgCanny = cv2.Canny(img,150,200)\n",
    "imgDialation = cv2.dilate(imgCanny,kernel,iterations=1)\n",
    "imgEroded = cv2.erode(imgDialation,kernel,iterations=1)\n",
    " \n",
    "cv2.imshow(\"Cinza\",imgGray)\n",
    "cv2.imshow(\"Blur\",imgBlur)\n",
    "cv2.imshow(\"Canny\",imgCanny)\n",
    "cv2.imshow(\"Dialation\",imgDialation)\n",
    "cv2.imshow(\"Eroded\",imgEroded)\n",
    "\n",
    "cv2.waitKey(0)\n",
    "cv2.destroyAllWindows()"
   ]
  },
  {
   "cell_type": "markdown",
   "metadata": {},
   "source": [
    "### Cortar e redimensionar"
   ]
  },
  {
   "cell_type": "code",
   "execution_count": 7,
   "metadata": {},
   "outputs": [],
   "source": [
    "img = cv2.imread(\"Resources/lambo.png\")\n",
    "\n",
    "imgResize = cv2.resize(img, (1000, 500))\n",
    "\n",
    "imgCropped = img[0:200, 200:500]\n",
    "\n",
    "cv2.imshow('Redimensioanda', imgResize)\n",
    "cv2.imshow('Cortada', imgCropped)\n",
    "\n",
    "cv2.waitKey(0)\n",
    "cv2.destroyAllWindows()"
   ]
  },
  {
   "cell_type": "markdown",
   "metadata": {},
   "source": [
    "### Formas e textos"
   ]
  },
  {
   "cell_type": "code",
   "execution_count": 13,
   "metadata": {},
   "outputs": [],
   "source": [
    "img = np.zeros((512, 512, 3), np.uint8)\n",
    "\n",
    "#cv2.imshow('image', img)\n",
    "\n",
    "cv2.line(img, (0, 0), (img.shape[1], img.shape[0]), (0, 255, 0), 3)\n",
    "cv2.rectangle(img, (0, 0), (250, 350), (0, 0, 255), 2)\n",
    "cv2.circle(img, (400, 50), 30, (255, 255, 0), 5)\n",
    "cv2.putText(img, 'OpenCV', (300, 200), cv2.FONT_HERSHEY_COMPLEX_SMALL,1, (0, 150, 0), 2)\n",
    "\n",
    "cv2.imshow('Imagem', img) \n",
    "\n",
    "cv2.waitKey(0)\n",
    "cv2.destroyAllWindows()"
   ]
  }
 ],
 "metadata": {
  "kernelspec": {
   "display_name": "Python 3",
   "language": "python",
   "name": "python3"
  },
  "language_info": {
   "codemirror_mode": {
    "name": "ipython",
    "version": 3
   },
   "file_extension": ".py",
   "mimetype": "text/x-python",
   "name": "python",
   "nbconvert_exporter": "python",
   "pygments_lexer": "ipython3",
   "version": "3.7.9"
  }
 },
 "nbformat": 4,
 "nbformat_minor": 4
}
